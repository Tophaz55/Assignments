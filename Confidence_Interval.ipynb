{
  "cells": [
    {
      "cell_type": "markdown",
      "metadata": {
        "id": "5czNN1BLMV-5"
      },
      "source": [
        "Confidence Interval"
      ]
    },
    {
      "cell_type": "code",
      "execution_count": 63,
      "metadata": {
        "id": "o3zQLNhJMP3S"
      },
      "outputs": [],
      "source": [
        "import numpy as np\n",
        "import pandas as pd\n",
        "import scipy.stats as st"
      ]
    },
    {
      "cell_type": "code",
      "execution_count": 64,
      "metadata": {
        "colab": {
          "base_uri": "https://localhost:8080/"
        },
        "id": "e5wmiTTOgWSG",
        "outputId": "65e47b72-22e7-487a-f632-6856a33ba786"
      },
      "outputs": [
        {
          "data": {
            "text/plain": [
              "0     1.13\n",
              "1     1.55\n",
              "2     1.43\n",
              "3     0.92\n",
              "4     1.25\n",
              "5     1.36\n",
              "6     1.32\n",
              "7     0.85\n",
              "8     1.07\n",
              "9     1.48\n",
              "10    1.20\n",
              "11    1.33\n",
              "12    1.18\n",
              "13    1.22\n",
              "14    1.20\n",
              "dtype: float64"
            ]
          },
          "execution_count": 64,
          "metadata": {},
          "output_type": "execute_result"
        }
      ],
      "source": [
        "data = [1.13, 1.55, 1.43, 0.92, 1.25, 1.36, 1.32, 0.85, 1.07, 1.48, 1.20, 1.33, 1.18, 1.22, 1.2]\n",
        "dt = pd.Series(data)\n",
        "dt"
      ]
    },
    {
      "cell_type": "markdown",
      "metadata": {
        "id": "TzSMZ-nFUQWd"
      },
      "source": [
        "sample size (n) = 15"
      ]
    },
    {
      "cell_type": "markdown",
      "metadata": {
        "id": "Rud731BYQArB"
      },
      "source": [
        "Build 99% Confidence Interval Using Sample Standard Deviation"
      ]
    },
    {
      "cell_type": "markdown",
      "metadata": {
        "id": "oXRXiMSRS0Q1"
      },
      "source": [
        "As sample size is less than 30 & we have to use sample standard deviation we will go for t-test."
      ]
    },
    {
      "cell_type": "code",
      "execution_count": 65,
      "metadata": {
        "id": "8YrjjamMblDI"
      },
      "outputs": [],
      "source": [
        "Confidence=st.t.interval(0.995,\n",
        "                 df=len(dt)-1,\n",
        "                 loc=np.mean(dt),\n",
        "                 scale=st.sem(dt))\n"
      ]
    },
    {
      "cell_type": "code",
      "execution_count": 66,
      "metadata": {
        "colab": {
          "base_uri": "https://localhost:8080/"
        },
        "id": "WvpJzGtCjZJu",
        "outputId": "576320bd-94e4-420e-b9d1-5b4390fdd0de"
      },
      "outputs": [
        {
          "data": {
            "text/plain": [
              "(1.0670653119144395, 1.3982680214188943)"
            ]
          },
          "execution_count": 66,
          "metadata": {},
          "output_type": "execute_result"
        }
      ],
      "source": [
        "Confidence"
      ]
    },
    {
      "cell_type": "markdown",
      "metadata": {
        "id": "QBxyp-WCUiaZ"
      },
      "source": [
        "Build 99% Confidence Interval Using Known Population Standard Deviation"
      ]
    },
    {
      "cell_type": "markdown",
      "metadata": {
        "id": "k7CCbEwXUgGc"
      },
      "source": [
        "the population standard deviation is 0.2 million characters"
      ]
    },
    {
      "cell_type": "code",
      "execution_count": 67,
      "metadata": {
        "id": "vrUeAEWjj9oD"
      },
      "outputs": [],
      "source": [
        "Confidence=st.norm.interval(0.995,\n",
        "                 loc=np.mean(dt),\n",
        "                 scale=0.2)"
      ]
    },
    {
      "cell_type": "code",
      "execution_count": 68,
      "metadata": {
        "colab": {
          "base_uri": "https://localhost:8080/"
        },
        "id": "xWyHAftzkANr",
        "outputId": "712b0f88-5061-4d41-b036-ced670ff2d17"
      },
      "outputs": [
        {
          "data": {
            "text/plain": [
              "(0.6712599129979058, 1.7940734203354287)"
            ]
          },
          "execution_count": 68,
          "metadata": {},
          "output_type": "execute_result"
        }
      ],
      "source": [
        "Confidence"
      ]
    }
  ],
  "metadata": {
    "colab": {
      "provenance": []
    },
    "kernelspec": {
      "display_name": "Python 3",
      "name": "python3"
    },
    "language_info": {
      "name": "python"
    }
  },
  "nbformat": 4,
  "nbformat_minor": 0
}
