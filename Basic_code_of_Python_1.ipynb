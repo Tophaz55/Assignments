{
  "nbformat": 4,
  "nbformat_minor": 0,
  "metadata": {
    "colab": {
      "provenance": []
    },
    "kernelspec": {
      "name": "python3",
      "display_name": "Python 3"
    },
    "language_info": {
      "name": "python"
    }
  },
  "cells": [
    {
      "cell_type": "code",
      "source": [
        "import numpy as np\n",
        "import pandas as pd"
      ],
      "metadata": {
        "id": "WwT2QhfrQy22"
      },
      "execution_count": 1,
      "outputs": []
    },
    {
      "cell_type": "markdown",
      "source": [
        "**1] Check the number is Prime Number or not**"
      ],
      "metadata": {
        "id": "CQkEKYn7Q_w_"
      }
    },
    {
      "cell_type": "code",
      "source": [
        "# Number to be checked for prime\n",
        "num = int(input(\"enter number:\"  ))\n",
        "\n",
        "if num > 1:\n",
        "\n",
        "    for i in range(2, (num//2)+1):\n",
        "\n",
        "        if (num % i) == 0:\n",
        "            print(num, \"is not a prime number\")\n",
        "            break\n",
        "    else:\n",
        "        print(num, \"is a prime number\")\n",
        "else:\n",
        "    print(num, \"is not a prime number\")"
      ],
      "metadata": {
        "colab": {
          "base_uri": "https://localhost:8080/"
        },
        "id": "DmkZgAziH3Fk",
        "outputId": "e052da31-4976-4360-b640-e9b1e61f72ee"
      },
      "execution_count": 2,
      "outputs": [
        {
          "output_type": "stream",
          "name": "stdout",
          "text": [
            "enter number:5\n",
            "5 is a prime number\n"
          ]
        }
      ]
    },
    {
      "cell_type": "markdown",
      "source": [
        "**2] Product of Random Numbers**"
      ],
      "metadata": {
        "id": "PCnOLtm6Q54i"
      }
    },
    {
      "cell_type": "code",
      "source": [
        "import random"
      ],
      "metadata": {
        "id": "dPofubW7aDrb"
      },
      "execution_count": 3,
      "outputs": []
    },
    {
      "cell_type": "code",
      "source": [
        "num1=round(random.random(),1)\n",
        "print(num1)\n",
        "num2=round(random.random(),1)\n",
        "print(num2)\n",
        "a=num1*num2\n",
        "b=float(input(\"enter product of 2 random no: \" ))\n",
        "print(b)\n",
        "\n",
        "if (b==a):\n",
        "  print(\"user's answer is correct\")\n",
        "else:\n",
        "  print(\"user's answer is wrong\")"
      ],
      "metadata": {
        "colab": {
          "base_uri": "https://localhost:8080/"
        },
        "id": "_toKWlRmaGwv",
        "outputId": "f650c53e-633b-4ea3-8d82-ff422a687eb2"
      },
      "execution_count": 17,
      "outputs": [
        {
          "output_type": "stream",
          "name": "stdout",
          "text": [
            "0.9\n",
            "0.0\n",
            "enter product of 2 random no: 0.0\n",
            "0.0\n",
            "user's answer is correct\n"
          ]
        }
      ]
    },
    {
      "cell_type": "markdown",
      "source": [
        "**3] Squares of Even/Odd Numbers**"
      ],
      "metadata": {
        "id": "IxfP_nL7cFR_"
      }
    },
    {
      "cell_type": "markdown",
      "source": [
        "Create a Python script that prints the squares of all even or odd numbers within the range of 100 to 200. Choose either even or odd numbers and document your choice in the code."
      ],
      "metadata": {
        "id": "Soadh4QCeFkQ"
      }
    },
    {
      "cell_type": "code",
      "source": [
        "#Squares of Even numbers\n",
        "for i in range(100,200):\n",
        "  if (i%2==0):\n",
        "    z=i**2\n",
        "    print( i, z)\n",
        "\n",
        "\n"
      ],
      "metadata": {
        "colab": {
          "base_uri": "https://localhost:8080/"
        },
        "id": "S4FZsuKWcIeN",
        "outputId": "e567ab75-2d57-45c2-d147-4c39aa89527c"
      },
      "execution_count": 5,
      "outputs": [
        {
          "output_type": "stream",
          "name": "stdout",
          "text": [
            "100 10000\n",
            "102 10404\n",
            "104 10816\n",
            "106 11236\n",
            "108 11664\n",
            "110 12100\n",
            "112 12544\n",
            "114 12996\n",
            "116 13456\n",
            "118 13924\n",
            "120 14400\n",
            "122 14884\n",
            "124 15376\n",
            "126 15876\n",
            "128 16384\n",
            "130 16900\n",
            "132 17424\n",
            "134 17956\n",
            "136 18496\n",
            "138 19044\n",
            "140 19600\n",
            "142 20164\n",
            "144 20736\n",
            "146 21316\n",
            "148 21904\n",
            "150 22500\n",
            "152 23104\n",
            "154 23716\n",
            "156 24336\n",
            "158 24964\n",
            "160 25600\n",
            "162 26244\n",
            "164 26896\n",
            "166 27556\n",
            "168 28224\n",
            "170 28900\n",
            "172 29584\n",
            "174 30276\n",
            "176 30976\n",
            "178 31684\n",
            "180 32400\n",
            "182 33124\n",
            "184 33856\n",
            "186 34596\n",
            "188 35344\n",
            "190 36100\n",
            "192 36864\n",
            "194 37636\n",
            "196 38416\n",
            "198 39204\n"
          ]
        }
      ]
    },
    {
      "cell_type": "code",
      "source": [
        "#Squares of Odd numbers\n",
        "for i in range(100,200):\n",
        "  if (i%2!=0):\n",
        "    z=i**2\n",
        "    print(i, z)"
      ],
      "metadata": {
        "colab": {
          "base_uri": "https://localhost:8080/"
        },
        "id": "-NzQs9fOfKKM",
        "outputId": "bea24fdb-1945-47c5-ec43-4aafa06c9f7d"
      },
      "execution_count": 6,
      "outputs": [
        {
          "output_type": "stream",
          "name": "stdout",
          "text": [
            "101 10201\n",
            "103 10609\n",
            "105 11025\n",
            "107 11449\n",
            "109 11881\n",
            "111 12321\n",
            "113 12769\n",
            "115 13225\n",
            "117 13689\n",
            "119 14161\n",
            "121 14641\n",
            "123 15129\n",
            "125 15625\n",
            "127 16129\n",
            "129 16641\n",
            "131 17161\n",
            "133 17689\n",
            "135 18225\n",
            "137 18769\n",
            "139 19321\n",
            "141 19881\n",
            "143 20449\n",
            "145 21025\n",
            "147 21609\n",
            "149 22201\n",
            "151 22801\n",
            "153 23409\n",
            "155 24025\n",
            "157 24649\n",
            "159 25281\n",
            "161 25921\n",
            "163 26569\n",
            "165 27225\n",
            "167 27889\n",
            "169 28561\n",
            "171 29241\n",
            "173 29929\n",
            "175 30625\n",
            "177 31329\n",
            "179 32041\n",
            "181 32761\n",
            "183 33489\n",
            "185 34225\n",
            "187 34969\n",
            "189 35721\n",
            "191 36481\n",
            "193 37249\n",
            "195 38025\n",
            "197 38809\n",
            "199 39601\n"
          ]
        }
      ]
    },
    {
      "cell_type": "markdown",
      "source": [
        "**4] Word counter**"
      ],
      "metadata": {
        "id": "5KStPHBWfz94"
      }
    },
    {
      "cell_type": "code",
      "source": [
        "import string\n",
        "test_string = \"This is a sample text. This text will be used to demonstrate the word counter.\"\n",
        "print(\"The original string is : \" + str(test_string))\n",
        "res = {key: test_string.count(key) for key in test_string.split()}\n",
        "print(\"The words counts : \" + str(res))"
      ],
      "metadata": {
        "colab": {
          "base_uri": "https://localhost:8080/"
        },
        "id": "DpPYiH8VxDOK",
        "outputId": "c470c374-79f1-4fbc-b0cd-9dd2b7263af9"
      },
      "execution_count": 7,
      "outputs": [
        {
          "output_type": "stream",
          "name": "stdout",
          "text": [
            "The original string is : This is a sample text. This text will be used to demonstrate the word counter.\n",
            "The words counts : {'This': 2, 'is': 3, 'a': 3, 'sample': 1, 'text.': 1, 'text': 2, 'will': 1, 'be': 1, 'used': 1, 'to': 1, 'demonstrate': 1, 'the': 1, 'word': 1, 'counter.': 1}\n"
          ]
        }
      ]
    },
    {
      "cell_type": "markdown",
      "source": [
        "**5] Check for Palindrome**"
      ],
      "metadata": {
        "id": "34PQibLy_wcW"
      }
    },
    {
      "cell_type": "code",
      "source": [
        "def isPalindrome(s):\n",
        "    return s == s[::-1]\n",
        "\n",
        "\n",
        "# Driver code\n",
        "s = input(\"Enter word: \" )\n",
        "ans = isPalindrome(s)\n",
        "\n",
        "if ans:\n",
        "    print(\"True\")\n",
        "else:\n",
        "    print(\"False\")"
      ],
      "metadata": {
        "id": "Y7hg2Zyz_z2u",
        "colab": {
          "base_uri": "https://localhost:8080/"
        },
        "outputId": "e61932ec-bdbf-4530-8fe4-b9ebc2752275"
      },
      "execution_count": 8,
      "outputs": [
        {
          "output_type": "stream",
          "name": "stdout",
          "text": [
            "Enter word: radar\n",
            "True\n"
          ]
        }
      ]
    }
  ]
}